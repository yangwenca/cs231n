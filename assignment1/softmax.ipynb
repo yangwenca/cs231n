{
 "cells": [
  {
   "cell_type": "markdown",
   "metadata": {},
   "source": [
    "# Softmax exercise\n",
    "\n",
    "*Complete and hand in this completed worksheet (including its outputs and any supporting code outside of the worksheet) with your assignment submission. For more details see the [assignments page](http://vision.stanford.edu/teaching/cs231n/assignments.html) on the course website.*\n",
    "\n",
    "This exercise is analogous to the SVM exercise. You will:\n",
    "\n",
    "- implement a fully-vectorized **loss function** for the Softmax classifier\n",
    "- implement the fully-vectorized expression for its **analytic gradient**\n",
    "- **check your implementation** with numerical gradient\n",
    "- use a validation set to **tune the learning rate and regularization** strength\n",
    "- **optimize** the loss function with **SGD**\n",
    "- **visualize** the final learned weights\n"
   ]
  },
  {
   "cell_type": "code",
   "execution_count": 1,
   "metadata": {
    "collapsed": false
   },
   "outputs": [],
   "source": [
    "import random\n",
    "import numpy as np\n",
    "from cs231n.data_utils import load_CIFAR10\n",
    "import matplotlib.pyplot as plt\n",
    "%matplotlib inline\n",
    "plt.rcParams['figure.figsize'] = (10.0, 8.0) # set default size of plots\n",
    "plt.rcParams['image.interpolation'] = 'nearest'\n",
    "plt.rcParams['image.cmap'] = 'gray'\n",
    "\n",
    "# for auto-reloading extenrnal modules\n",
    "# see http://stackoverflow.com/questions/1907993/autoreload-of-modules-in-ipython\n",
    "%load_ext autoreload\n",
    "%autoreload 2"
   ]
  },
  {
   "cell_type": "code",
   "execution_count": 2,
   "metadata": {
    "collapsed": false
   },
   "outputs": [
    {
     "name": "stdout",
     "output_type": "stream",
     "text": [
      "Train data shape:  (49000, 3073)\n",
      "Train labels shape:  (49000,)\n",
      "Validation data shape:  (1000, 3073)\n",
      "Validation labels shape:  (1000,)\n",
      "Test data shape:  (1000, 3073)\n",
      "Test labels shape:  (1000,)\n",
      "dev data shape:  (500, 3073)\n",
      "dev labels shape:  (500,)\n"
     ]
    }
   ],
   "source": [
    "def get_CIFAR10_data(num_training=49000, num_validation=1000, num_test=1000, num_dev=500):\n",
    "  \"\"\"\n",
    "  Load the CIFAR-10 dataset from disk and perform preprocessing to prepare\n",
    "  it for the linear classifier. These are the same steps as we used for the\n",
    "  SVM, but condensed to a single function.  \n",
    "  \"\"\"\n",
    "  # Load the raw CIFAR-10 data\n",
    "  cifar10_dir = 'cs231n/datasets/cifar-10-batches-py'\n",
    "  X_train, y_train, X_test, y_test = load_CIFAR10(cifar10_dir)\n",
    "  \n",
    "  # subsample the data\n",
    "  mask = range(num_training, num_training + num_validation)\n",
    "  X_val = X_train[mask]\n",
    "  y_val = y_train[mask]\n",
    "  mask = range(num_training)\n",
    "  X_train = X_train[mask]\n",
    "  y_train = y_train[mask]\n",
    "  mask = range(num_test)\n",
    "  X_test = X_test[mask]\n",
    "  y_test = y_test[mask]\n",
    "  mask = np.random.choice(num_training, num_dev, replace=False)\n",
    "  X_dev = X_train[mask]\n",
    "  y_dev = y_train[mask]\n",
    "  \n",
    "  # Preprocessing: reshape the image data into rows\n",
    "  X_train = np.reshape(X_train, (X_train.shape[0], -1))\n",
    "  X_val = np.reshape(X_val, (X_val.shape[0], -1))\n",
    "  X_test = np.reshape(X_test, (X_test.shape[0], -1))\n",
    "  X_dev = np.reshape(X_dev, (X_dev.shape[0], -1))\n",
    "  \n",
    "  # Normalize the data: subtract the mean image\n",
    "  mean_image = np.mean(X_train, axis = 0)\n",
    "  X_train -= mean_image\n",
    "  X_val -= mean_image\n",
    "  X_test -= mean_image\n",
    "  X_dev -= mean_image\n",
    "  \n",
    "  # add bias dimension and transform into columns\n",
    "  X_train = np.hstack([X_train, np.ones((X_train.shape[0], 1))])\n",
    "  X_val = np.hstack([X_val, np.ones((X_val.shape[0], 1))])\n",
    "  X_test = np.hstack([X_test, np.ones((X_test.shape[0], 1))])\n",
    "  X_dev = np.hstack([X_dev, np.ones((X_dev.shape[0], 1))])\n",
    "  \n",
    "  return X_train, y_train, X_val, y_val, X_test, y_test, X_dev, y_dev\n",
    "\n",
    "\n",
    "# Invoke the above function to get our data.\n",
    "X_train, y_train, X_val, y_val, X_test, y_test, X_dev, y_dev = get_CIFAR10_data()\n",
    "print 'Train data shape: ', X_train.shape\n",
    "print 'Train labels shape: ', y_train.shape\n",
    "print 'Validation data shape: ', X_val.shape\n",
    "print 'Validation labels shape: ', y_val.shape\n",
    "print 'Test data shape: ', X_test.shape\n",
    "print 'Test labels shape: ', y_test.shape\n",
    "print 'dev data shape: ', X_dev.shape\n",
    "print 'dev labels shape: ', y_dev.shape"
   ]
  },
  {
   "cell_type": "markdown",
   "metadata": {},
   "source": [
    "## Softmax Classifier\n",
    "\n",
    "Your code for this section will all be written inside **cs231n/classifiers/softmax.py**. \n"
   ]
  },
  {
   "cell_type": "code",
   "execution_count": 8,
   "metadata": {
    "collapsed": false
   },
   "outputs": [
    {
     "name": "stdout",
     "output_type": "stream",
     "text": [
      "loss: 2.386620\n",
      "sanity check: 2.302585\n"
     ]
    }
   ],
   "source": [
    "# First implement the naive softmax loss function with nested loops.\n",
    "# Open the file cs231n/classifiers/softmax.py and implement the\n",
    "# softmax_loss_naive function.\n",
    "\n",
    "from cs231n.classifiers.softmax import softmax_loss_naive\n",
    "import time\n",
    "\n",
    "# Generate a random softmax weight matrix and use it to compute the loss.\n",
    "W = np.random.randn(3073, 10) * 0.0001\n",
    "loss, grad = softmax_loss_naive(W, X_dev, y_dev, 0.0)\n",
    "\n",
    "# As a rough sanity check, our loss should be something close to -log(0.1).\n",
    "print 'loss: %f' % loss\n",
    "print 'sanity check: %f' % (-np.log(0.1))"
   ]
  },
  {
   "cell_type": "markdown",
   "metadata": {},
   "source": [
    "## Inline Question 1:\n",
    "Why do we expect our loss to be close to -log(0.1)? Explain briefly.**\n",
    "\n",
    "**Your answer:** -log(1/number of classes) = -log(1/10) = -log(0.1)\n"
   ]
  },
  {
   "cell_type": "code",
   "execution_count": 9,
   "metadata": {
    "collapsed": false
   },
   "outputs": [
    {
     "name": "stdout",
     "output_type": "stream",
     "text": [
      "numerical: 0.742437 analytic: 0.742437, relative error: 6.937785e-08\n",
      "numerical: 0.189057 analytic: 0.189057, relative error: 6.562898e-08\n",
      "numerical: 3.745663 analytic: 3.745663, relative error: 2.423485e-08\n",
      "numerical: -2.190050 analytic: -2.190050, relative error: 1.868935e-08\n",
      "numerical: 4.753248 analytic: 4.753248, relative error: 4.160271e-09\n",
      "numerical: -0.344796 analytic: -0.344796, relative error: 1.920249e-07\n",
      "numerical: -2.297955 analytic: -2.297956, relative error: 4.139430e-08\n",
      "numerical: -0.968955 analytic: -0.968955, relative error: 1.644301e-08\n",
      "numerical: 0.918161 analytic: 0.918161, relative error: 5.995554e-09\n",
      "numerical: -0.967609 analytic: -0.967609, relative error: 1.076776e-08\n",
      "numerical: -1.019233 analytic: -1.019233, relative error: 4.568642e-08\n",
      "numerical: -0.207392 analytic: -0.207393, relative error: 3.796328e-07\n",
      "numerical: 4.320701 analytic: 4.320700, relative error: 1.673109e-08\n",
      "numerical: -0.492897 analytic: -0.492897, relative error: 1.440430e-08\n",
      "numerical: -0.842348 analytic: -0.842348, relative error: 2.097941e-08\n",
      "numerical: 0.752256 analytic: 0.752256, relative error: 1.429362e-08\n",
      "numerical: 3.455195 analytic: 3.455195, relative error: 6.518837e-09\n",
      "numerical: -0.909969 analytic: -0.909969, relative error: 7.345599e-09\n",
      "numerical: -0.353073 analytic: -0.353073, relative error: 1.251417e-07\n",
      "numerical: 0.887805 analytic: 0.887805, relative error: 9.592554e-08\n"
     ]
    }
   ],
   "source": [
    "# Complete the implementation of softmax_loss_naive and implement a (naive)\n",
    "# version of the gradient that uses nested loops.\n",
    "loss, grad = softmax_loss_naive(W, X_dev, y_dev, 0.0)\n",
    "\n",
    "# As we did for the SVM, use numeric gradient checking as a debugging tool.\n",
    "# The numeric gradient should be close to the analytic gradient.\n",
    "from cs231n.gradient_check import grad_check_sparse\n",
    "f = lambda w: softmax_loss_naive(w, X_dev, y_dev, 0.0)[0]\n",
    "grad_numerical = grad_check_sparse(f, W, grad, 10)\n",
    "\n",
    "# similar to SVM case, do another gradient check with regularization\n",
    "loss, grad = softmax_loss_naive(W, X_dev, y_dev, 1e2)\n",
    "f = lambda w: softmax_loss_naive(w, X_dev, y_dev, 1e2)[0]\n",
    "grad_numerical = grad_check_sparse(f, W, grad, 10)"
   ]
  },
  {
   "cell_type": "code",
   "execution_count": 20,
   "metadata": {
    "collapsed": false
   },
   "outputs": [
    {
     "name": "stdout",
     "output_type": "stream",
     "text": [
      "naive loss: 2.386620e+00 computed in 0.112327s\n",
      "vectorized loss: 2.386620e+00 computed in 0.003381s\n",
      "Loss difference: 0.000000\n",
      "Gradient difference: 0.000000\n"
     ]
    }
   ],
   "source": [
    "# Now that we have a naive implementation of the softmax loss function and its gradient,\n",
    "# implement a vectorized version in softmax_loss_vectorized.\n",
    "# The two versions should compute the same results, but the vectorized version should be\n",
    "# much faster.\n",
    "tic = time.time()\n",
    "loss_naive, grad_naive = softmax_loss_naive(W, X_dev, y_dev, 0.00001)\n",
    "toc = time.time()\n",
    "print 'naive loss: %e computed in %fs' % (loss_naive, toc - tic)\n",
    "\n",
    "from cs231n.classifiers.softmax import softmax_loss_vectorized\n",
    "tic = time.time()\n",
    "loss_vectorized, grad_vectorized = softmax_loss_vectorized(W, X_dev, y_dev, 0.00001)\n",
    "toc = time.time()\n",
    "print 'vectorized loss: %e computed in %fs' % (loss_vectorized, toc - tic)\n",
    "\n",
    "# As we did for the SVM, we use the Frobenius norm to compare the two versions\n",
    "# of the gradient.\n",
    "grad_difference = np.linalg.norm(grad_naive - grad_vectorized, ord='fro')\n",
    "print 'Loss difference: %f' % np.abs(loss_naive - loss_vectorized)\n",
    "print 'Gradient difference: %f' % grad_difference"
   ]
  },
  {
   "cell_type": "code",
   "execution_count": 24,
   "metadata": {
    "collapsed": false
   },
   "outputs": [
    {
     "name": "stdout",
     "output_type": "stream",
     "text": [
      "iteration 0 / 3000: loss 1215.753070\n",
      "iteration 100 / 3000: loss 2.486755\n",
      "iteration 200 / 3000: loss 2.149854\n",
      "iteration 300 / 3000: loss 2.138967\n",
      "iteration 400 / 3000: loss 2.094941\n",
      "iteration 500 / 3000: loss 2.129086\n",
      "iteration 600 / 3000: loss 2.092905\n",
      "iteration 700 / 3000: loss 2.170941\n",
      "iteration 800 / 3000: loss 2.155969\n",
      "iteration 900 / 3000: loss 2.179724\n",
      "iteration 1000 / 3000: loss 2.153032\n",
      "iteration 1100 / 3000: loss 2.072650\n",
      "iteration 1200 / 3000: loss 2.111283\n",
      "iteration 1300 / 3000: loss 2.134724\n",
      "iteration 1400 / 3000: loss 2.138828\n",
      "iteration 1500 / 3000: loss 2.150966\n",
      "iteration 1600 / 3000: loss 2.145698\n",
      "iteration 1700 / 3000: loss 2.148601\n",
      "iteration 1800 / 3000: loss 2.143819\n",
      "iteration 1900 / 3000: loss 2.106322\n",
      "iteration 2000 / 3000: loss 2.117170\n",
      "iteration 2100 / 3000: loss 2.115229\n",
      "iteration 2200 / 3000: loss 2.106463\n",
      "iteration 2300 / 3000: loss 2.132851\n",
      "iteration 2400 / 3000: loss 2.125900\n",
      "iteration 2500 / 3000: loss 2.152359\n",
      "iteration 2600 / 3000: loss 2.081160\n",
      "iteration 2700 / 3000: loss 2.091485\n",
      "iteration 2800 / 3000: loss 2.164407\n",
      "iteration 2900 / 3000: loss 2.114359\n",
      "iteration 0 / 3000: loss 1226.207640\n",
      "iteration 100 / 3000: loss 2.147767\n",
      "iteration 200 / 3000: loss 2.209745\n",
      "iteration 300 / 3000: loss 2.164647\n",
      "iteration 400 / 3000: loss 2.155303\n",
      "iteration 500 / 3000: loss 2.133095\n",
      "iteration 600 / 3000: loss 2.159549\n",
      "iteration 700 / 3000: loss 2.115449\n",
      "iteration 800 / 3000: loss 2.118607\n",
      "iteration 900 / 3000: loss 2.162679\n",
      "iteration 1000 / 3000: loss 2.136922\n",
      "iteration 1100 / 3000: loss 2.077132\n",
      "iteration 1200 / 3000: loss 2.069141\n",
      "iteration 1300 / 3000: loss 2.103433\n",
      "iteration 1400 / 3000: loss 2.154108\n",
      "iteration 1500 / 3000: loss 2.108127\n",
      "iteration 1600 / 3000: loss 2.186744\n",
      "iteration 1700 / 3000: loss 2.190249\n",
      "iteration 1800 / 3000: loss 2.161887\n",
      "iteration 1900 / 3000: loss 2.103533\n",
      "iteration 2000 / 3000: loss 2.158668\n",
      "iteration 2100 / 3000: loss 2.118405\n",
      "iteration 2200 / 3000: loss 2.141130\n",
      "iteration 2300 / 3000: loss 2.154682\n",
      "iteration 2400 / 3000: loss 2.117493\n",
      "iteration 2500 / 3000: loss 2.144341\n",
      "iteration 2600 / 3000: loss 2.111562\n",
      "iteration 2700 / 3000: loss 2.129217\n",
      "iteration 2800 / 3000: loss 2.198391\n",
      "iteration 2900 / 3000: loss 2.150437\n",
      "lr 5.000000e-07 reg 8.000000e+04 train accuracy: 0.300592 val accuracy: 0.309000\n",
      "lr 7.000000e-07 reg 8.000000e+04 train accuracy: 0.313531 val accuracy: 0.318000\n",
      "best validation accuracy achieved during cross-validation: 0.318000\n"
     ]
    }
   ],
   "source": [
    "# Use the validation set to tune hyperparameters (regularization strength and\n",
    "# learning rate). You should experiment with different ranges for the learning\n",
    "# rates and regularization strengths; if you are careful you should be able to\n",
    "# get a classification accuracy of over 0.35 on the validation set.\n",
    "from cs231n.classifiers import Softmax\n",
    "results = {}\n",
    "best_val = -1\n",
    "best_softmax = None\n",
    "learning_rates = [5e-7, 7e-7]\n",
    "regularization_strengths = [8e4]\n",
    "\n",
    "################################################################################\n",
    "# TODO:                                                                        #\n",
    "# Use the validation set to set the learning rate and regularization strength. #\n",
    "# This should be identical to the validation that you did for the SVM; save    #\n",
    "# the best trained softmax classifer in best_softmax.                          #\n",
    "################################################################################\n",
    "for lr in learning_rates:\n",
    "    for regular in regularization_strengths:\n",
    "        input_tuple = (lr, regular)\n",
    "        sft = Softmax()\n",
    "        loss_hist = sft.train(X_train, y_train, learning_rate=lr, reg=regular,\n",
    "                      num_iters=3000, verbose=True)\n",
    "        y_train_pred = sft.predict(X_train)\n",
    "        train_accur = np.mean(y_train == y_train_pred)\n",
    "        y_val_pred = sft.predict(X_val)\n",
    "        val_accur = np.mean(y_val == y_val_pred)\n",
    "        output_tuple = (train_accur, val_accur)\n",
    "        if val_accur > best_val:\n",
    "            best_val = val_accur\n",
    "            best_softmax = sft\n",
    "        results[input_tuple] = output_tuple\n",
    "################################################################################\n",
    "#                              END OF YOUR CODE                                #\n",
    "################################################################################\n",
    "    \n",
    "# Print out results.\n",
    "for lr, reg in sorted(results):\n",
    "    train_accuracy, val_accuracy = results[(lr, reg)]\n",
    "    print 'lr %e reg %e train accuracy: %f val accuracy: %f' % (\n",
    "                lr, reg, train_accuracy, val_accuracy)\n",
    "    \n",
    "print 'best validation accuracy achieved during cross-validation: %f' % best_val"
   ]
  },
  {
   "cell_type": "code",
   "execution_count": 25,
   "metadata": {
    "collapsed": false
   },
   "outputs": [
    {
     "name": "stdout",
     "output_type": "stream",
     "text": [
      "softmax on raw pixels final test set accuracy: 0.317000\n"
     ]
    }
   ],
   "source": [
    "# evaluate on test set\n",
    "# Evaluate the best softmax on test set\n",
    "y_test_pred = best_softmax.predict(X_test)\n",
    "test_accuracy = np.mean(y_test == y_test_pred)\n",
    "print 'softmax on raw pixels final test set accuracy: %f' % (test_accuracy, )"
   ]
  },
  {
   "cell_type": "code",
   "execution_count": 26,
   "metadata": {
    "collapsed": false
   },
   "outputs": [
    {
     "data": {
      "image/png": "[encoded data removed]",
      "text/plain": [
       "<matplotlib.figure.Figure at 0x1118ed210>"
      ]
     },
     "metadata": {},
     "output_type": "display_data"
    }
   ],
   "source": [
    "# Visualize the learned weights for each class\n",
    "w = best_softmax.W[:-1,:] # strip out the bias\n",
    "w = w.reshape(32, 32, 3, 10)\n",
    "\n",
    "w_min, w_max = np.min(w), np.max(w)\n",
    "\n",
    "classes = ['plane', 'car', 'bird', 'cat', 'deer', 'dog', 'frog', 'horse', 'ship', 'truck']\n",
    "for i in xrange(10):\n",
    "  plt.subplot(2, 5, i + 1)\n",
    "  \n",
    "  # Rescale the weights to be between 0 and 255\n",
    "  wimg = 255.0 * (w[:, :, :, i].squeeze() - w_min) / (w_max - w_min)\n",
    "  plt.imshow(wimg.astype('uint8'))\n",
    "  plt.axis('off')\n",
    "  plt.title(classes[i])"
   ]
  },
  {
   "cell_type": "code",
   "execution_count": null,
   "metadata": {
    "collapsed": true
   },
   "outputs": [],
   "source": []
  }
 ],
 "metadata": {
  "kernelspec": {
   "display_name": "Python [default]",
   "language": "python",
   "name": "python2"
  },
  "language_info": {
   "codemirror_mode": {
    "name": "ipython",
    "version": 2
   },
   "file_extension": ".py",
   "mimetype": "text/x-python",
   "name": "python",
   "nbconvert_exporter": "python",
   "pygments_lexer": "ipython2",
   "version": "2.7.12"
  }
 },
 "nbformat": 4,
 "nbformat_minor": 0
}
